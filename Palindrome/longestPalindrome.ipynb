{
 "cells": [
  {
   "cell_type": "markdown",
   "metadata": {},
   "source": [
    "## 最长回文子串\n",
    "\n",
    "给定一个字符串 s，找到 s 中最长的回文子串。你可以假设 s 的最大长度为 1000。\n",
    "\n",
    "### 示例 1：\n",
    "\n",
    "- 输入: \"babad\"\n",
    "- 输出: \"bab\"\n",
    "\n",
    "注意: \"aba\" 也是一个有效答案。\n",
    "\n",
    "### 示例 2：\n",
    "\n",
    "- 输入: \"cbbd\"\n",
    "- 输出: \"bb\"\n",
    "\n",
    "来源：力扣（LeetCode）\n",
    "链接：https://leetcode-cn.com/problems/longest-palindromic-substring\n",
    "著作权归领扣网络所有。商业转载请联系官方授权，非商业转载请注明出处。"
   ]
  },
  {
   "cell_type": "code",
   "execution_count": 25,
   "metadata": {},
   "outputs": [],
   "source": [
    "def longestPalindrome(s):\n",
    "\n",
    "    if len(s) == 0:\n",
    "        return \"\"\n",
    "\n",
    "    elif len(s) == 1:\n",
    "        return s \n",
    "\n",
    "    isPalindrome = [[0 for x in range(len(s))] for y in range(len(s))]\n",
    "    lenthOfPalindrome =0\n",
    "    startIndex = -1\n",
    "    endIndex = -1\n",
    "    \n",
    "    for i in range(len(s)):\n",
    "        isPalindrome[i][i] = 1\n",
    "        for j in range(i):\n",
    "            if (s[j] == s[i] and (i-j <= 2 or isPalindrome[j+1][i-1])):\n",
    "                isPalindrome[j][i] = 1\n",
    "                if (i - j + 1) > lenthOfPalindrome:\n",
    "                    lenthOfPalindrome = i - j + 1\n",
    "                    startIndex = j\n",
    "                    endIndex = i\n",
    "\n",
    "    if lenthOfPalindrome > 0:\n",
    "        return s[startIndex:endIndex+1]\n",
    "    else:\n",
    "        return s[0]"
   ]
  },
  {
   "cell_type": "code",
   "execution_count": 26,
   "metadata": {},
   "outputs": [
    {
     "data": {
      "text/plain": [
       "'bab'"
      ]
     },
     "execution_count": 26,
     "metadata": {},
     "output_type": "execute_result"
    }
   ],
   "source": [
    "longestPalindrome('babad')"
   ]
  },
  {
   "cell_type": "code",
   "execution_count": 27,
   "metadata": {},
   "outputs": [
    {
     "data": {
      "text/plain": [
       "'a'"
      ]
     },
     "execution_count": 27,
     "metadata": {},
     "output_type": "execute_result"
    }
   ],
   "source": [
    "longestPalindrome('ab')"
   ]
  },
  {
   "cell_type": "code",
   "execution_count": 28,
   "metadata": {},
   "outputs": [
    {
     "data": {
      "text/plain": [
       "''"
      ]
     },
     "execution_count": 28,
     "metadata": {},
     "output_type": "execute_result"
    }
   ],
   "source": [
    "longestPalindrome('')"
   ]
  },
  {
   "cell_type": "code",
   "execution_count": null,
   "metadata": {},
   "outputs": [],
   "source": []
  }
 ],
 "metadata": {
  "kernelspec": {
   "display_name": "Python 3",
   "language": "python",
   "name": "python3"
  },
  "language_info": {
   "codemirror_mode": {
    "name": "ipython",
    "version": 3
   },
   "file_extension": ".py",
   "mimetype": "text/x-python",
   "name": "python",
   "nbconvert_exporter": "python",
   "pygments_lexer": "ipython3",
   "version": "3.6.4"
  }
 },
 "nbformat": 4,
 "nbformat_minor": 2
}
